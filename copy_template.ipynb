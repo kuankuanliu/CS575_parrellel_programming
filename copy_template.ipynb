{
  "nbformat": 4,
  "nbformat_minor": 0,
  "metadata": {
    "colab": {
      "provenance": [],
      "include_colab_link": true
    },
    "kernelspec": {
      "name": "python3",
      "display_name": "Python 3"
    }
  },
  "cells": [
    {
      "cell_type": "markdown",
      "metadata": {
        "id": "view-in-github",
        "colab_type": "text"
      },
      "source": [
        "<a href=\"https://colab.research.google.com/github/kuankuanliu/CS575_parrellelprogram/blob/main/copy_template.ipynb\" target=\"_parent\"><img src=\"https://colab.research.google.com/assets/colab-badge.svg\" alt=\"Open In Colab\"/></a>"
      ]
    },
    {
      "cell_type": "markdown",
      "metadata": {
        "id": "CPDNndTNFRqB"
      },
      "source": [
        "# CSX46 Class Notebook 1 - Analyzing the Pathway Commons 2 (PC2) database; getting started with igraph\n"
      ]
    },
    {
      "cell_type": "markdown",
      "metadata": {
        "id": "WADzif3qZtha"
      },
      "source": [
        "## Part 1:  count the number of different types of biological interactions in Pathway Commons 2\n",
        "\n",
        "In this notebook, we will learn how to load a biological network from a tab-delimited text file in \"edge-list\" format. We will also learn how to tabulate counts of edges of different edge types (there are various edge types encoded in the second column of the tab-delimited file) and how to load the edge-list data into an `igraph.Graph` python object (representing an undirected graph) in the `igraph` software packge. We use an edge-list data file that has been obtained from the Pathway Commons 2 database; the file is in a tab-delimited ASCII text format called Simple Interaction Format (SIF).\n",
        "The SIF (Simple Interaction File) format looks like this:\n",
        "```\n",
        "A1BG    controls-expression-of  A2M\n",
        "A1BG    interacts-with  ABCC6\n",
        "A1BG    interacts-with  ACE2\n",
        "A1BG    interacts-with  ADAM10\n",
        "A1BG    interacts-with  ADAM17\n",
        "A1BG    interacts-with  ADAM9\n",
        "```\n",
        "where the first and third columns contain the names biochemical molecule types (which we sometimes call \"biochemical species\" if we are being extra-general; the ALLCAPS names are human gene symbols, but they really refer to the *proteins* encoded by the genes). The second column contains one of thirteen different interaction types (i.e., edge labels). The data file originally came from the Pathway Commons 2 database \"release 9\" (http://www.pathwaycommons.org/archives/PC2/v9/PathwayCommons9.All.hgnc.sif.gz), but in this notebook, we will read the data from an Amazon Web Services (AWS) Simple Storage Service (S3) public storage \"bucket\" (URL to be provided below), initially using a HTTP request with uncompression on-the-fly (and then later in the notebook, by simply downloading the file into your Google Colab compute instance). In this notebook, you'll be using the Python modules `gzip`, `timeit`, `pandas`, `urllib.request`, `collections`  `operator`, `cairo`, `numpy`, and `igraph`.\n",
        "\n",
        "### What you will do with the data from the SIF file\n",
        "\n",
        "- Print the first six lines of the uncompressed data file\n",
        "- Use a python `timeit` timer to time how long your program takes\n",
        "- Count how many rows there are in the data file\n",
        "- Estimate the number of proteins in the database; we'll define them operationally as strings in column 1 or column 3, for which the content of column 2 is one of these interactions: `interacts-with`, `in-complex-with, `neighbor-of`\n",
        "- Count the total number of unique pairs of interacting molecules (ignoring interaction type)\n",
        "- Count the number rows for each type of interaction in the database\n",
        "- Pythonistas: do it using `pandas`, and then do it without using `pandas`\n",
        "\n",
        "### Step-by-step instructions for Python3:\n",
        "\n",
        "- Open a file object representing a stream of the remote, compressed data file, using the function `urllib.request.urlopen`\n",
        "- Open a file object representing a stream of the uncompressed data file, using a `gzip.GzipFile` object\n",
        "- Start the `timeit` timer\n",
        "- Read one line at a time, until the end of the file\n",
        "- Split line on \"\\t\" and pull out the tuple of species1, interaction_type, species2 from the line of text\n"
      ]
    },
    {
      "cell_type": "markdown",
      "metadata": {
        "id": "qJSvqWdiACqJ"
      },
      "source": [
        "In order to be able to plot in igraph, we will first need the PyPI package `cairo` to be installed, which requires first installing some APT packages (`libcairo2-dev`, `libjpeg2-dev`, and `libgif-dev`). Then we are also going to have to install the `python-igraph` PyPI package. This package is somewhat peculiar in that the PyPI package name (`python-igraph`) is not the same as the import package name (`igraph`)."
      ]
    },
    {
      "cell_type": "code",
      "metadata": {
        "id": "NkQvLH9pAC8o",
        "colab": {
          "base_uri": "https://localhost:8080/"
        },
        "outputId": "254b9871-b5c3-45bd-bfb1-42036b0258a2"
      },
      "source": [
        "!apt-get install libcairo2-dev libjpeg-dev libgif-dev\n",
        "!pip install pycairo\n",
        "# use pip to install python-igraph\n",
        "!pip install python-igraph"
      ],
      "execution_count": null,
      "outputs": [
        {
          "output_type": "stream",
          "name": "stdout",
          "text": [
            "Reading package lists... Done\n",
            "Building dependency tree... Done\n",
            "Reading state information... Done\n",
            "libcairo2-dev is already the newest version (1.16.0-5ubuntu2).\n",
            "libgif-dev is already the newest version (5.1.9-2build2).\n",
            "libjpeg-dev is already the newest version (8c-2ubuntu10).\n",
            "0 upgraded, 0 newly installed, 0 to remove and 24 not upgraded.\n",
            "Requirement already satisfied: pycairo in /usr/local/lib/python3.10/dist-packages (1.25.1)\n",
            "Requirement already satisfied: python-igraph in /usr/local/lib/python3.10/dist-packages (0.11.3)\n",
            "Requirement already satisfied: igraph==0.11.3 in /usr/local/lib/python3.10/dist-packages (from python-igraph) (0.11.3)\n",
            "Requirement already satisfied: texttable>=1.6.2 in /usr/local/lib/python3.10/dist-packages (from igraph==0.11.3->python-igraph) (1.7.0)\n"
          ]
        }
      ]
    },
    {
      "cell_type": "markdown",
      "metadata": {
        "id": "Z-vSG7598L29"
      },
      "source": [
        "Next, we will need to import the python modules `gzip`, `operator`, `timeit`,  `urllib.request`, `collections`, `pandas`, `csv`, `cairo`, and `igraph`"
      ]
    },
    {
      "cell_type": "code",
      "metadata": {
        "id": "fUkSBqkp8RoN"
      },
      "source": [
        "import gzip , operator, timeit, urllib.request, collections, pandas, csv, cairo, igraph# add the other packages"
      ],
      "execution_count": null,
      "outputs": []
    },
    {
      "cell_type": "markdown",
      "metadata": {
        "id": "hXdo0XcB8TNV"
      },
      "source": [
        "Next, we will download (and load into a Python object), a data file that describes a \"network\" of types of molecules that interact with one another via various types of physical interactions or chemical reactions. Each row in the data file describes a type of interaction involving two specific types of molecules (which could be specific types of proteins or specific types of carbohydrates or whatever). The data file is in a text file format called Simple Interaction Format (SIF), and it is compressed using the GZip compression algorithm. We will download the file using a HTTPS GET request with on-the-fly decompression. We will process that file line-by-line and keep the following variables updated:\n",
        "- count `intctr`of interactions\n",
        "- count `linectr` of lines\n",
        "- set `interactions` of interaction types\n",
        "- set `proteins` of chemical species names (which are mostly protein names)\n",
        "- a dictionary-type data structure (`intnamectr`) containing a count of the number of interactions of each interaction type"
      ]
    },
    {
      "cell_type": "code",
      "metadata": {
        "id": "Cqy__wKCBoKA",
        "colab": {
          "base_uri": "https://localhost:8080/"
        },
        "outputId": "72e8b668-36e9-4044-a22d-fa679ea6602a"
      },
      "source": [
        "compressed_datafile_url = \"https://csx46.s3-us-west-2.amazonaws.com/PathwayCommons9.All.hgnc.sif.gz\"\n",
        "interaction_types_ppi = {\"interacts-with\", \"in-complex-with\", \"neighbor-of\"}\n",
        "\n",
        "start_time = timeit.default_timer()\n",
        "\n",
        "# initialize the SIF file interaction counter `intctr` to zero\n",
        "intctr = 0\n",
        "\n",
        "# initialize the line counter `linectr` to zero\n",
        "linectr = 0\n",
        "\n",
        "# make an empty `set` called `interactions`\n",
        "interactions = set()\n",
        "\n",
        "# make an empty `set` called `proteins`\n",
        "proteins = set()\n",
        "\n",
        "\n",
        "# make a collections.Counter object called `int_name_counter`\n",
        "int_name_counter = collections.Counter()\n",
        "\n",
        "\n",
        "# use the `with` keyword to open the URL to the gzipped remote data file\n",
        "# using `urllib.request.urlopen` as a file descriptor object named `zfd`\n",
        "with  urllib.request.urlopen(compressed_datafile_url)  as zfd:\n",
        "\n",
        "    # use the `with` keyword to create a `gzip.GzipFile` object with `zfd`\n",
        "    # passed to the constructor (in reading mode with `mode=\"r\"`) as\n",
        "    # variable `fd`\n",
        "    with gzip.GzipFile(fileobj=zfd, mode=\"r\") as fd:\n",
        "\n",
        "        # grab one line (as a byte sequence) at a time from `fd` using a `for` loop\n",
        "        for line in fd:\n",
        "\n",
        "            # get the line as a string `line_str` using te `str.decode(\"utf-8\")` method\n",
        "            line_str = line.decode(\"utf-8\")\n",
        "\n",
        "\n",
        "            # strip the newline at the end of `line_str`, using the `str.rstrip` method\n",
        "            line_str = line_str.rstrip(\"\\n\")\n",
        "\n",
        "\n",
        "            # if it is one of the first six lines in the file, print it\n",
        "            if linectr < 6:\n",
        "                print(line_str)\n",
        "\n",
        "\n",
        "            # increment the line counter\n",
        "            linectr += 1\n",
        "\n",
        "\n",
        "            # and split the resulting string into a list of strings using the `str.split` method\n",
        "            [prot1, interaction_type, prot2] = line_str.split(\"\\t\")\n",
        "\n",
        "\n",
        "            # increment the counter for this interaction type, using the `Counter.update` method\n",
        "            # (passing as the sole argument, a single-item list containing the value of `interaction_type`)\n",
        "            int_name_counter.update([interaction_type])\n",
        "\n",
        "\n",
        "            # if `interaction_type` is in the set `interaction_types_ppi`:\n",
        "            if interaction_type in interaction_types_ppi:\n",
        "                # increment `intctr`\n",
        "                intctr += 1\n",
        "\n",
        "\n",
        "                # add `prot1` and `prot2` to the set `proteins` (use the pipe `|` operator)\n",
        "                proteins |= {prot1, prot2}\n",
        "\n",
        "\n",
        "                # - construct a string key `min(prot1, prot2) + \"-\" + max(prot1, prot2)`\n",
        "                # - add the key to the set `interactions`\n",
        "                # (the reason why we are doing this is so that we can count up how many unique pairs of\n",
        "                # proteins there are; but in so doing, because these interactions are not directed,\n",
        "                # we should count the pair (\"RELA\",\"RELB\") the same as (\"RELB\",\"RELA\"). Constructing\n",
        "                # this key using the \"min\" and \"max\" ensures that the key for the tuple (\"RELA\",\"RELB\")\n",
        "                # and for the tuple (\"RELB\",\"RELA\") is just \"RELA-RELB\", either way-- so those two tuples\n",
        "                # don't count as distinct interactions (because, in fact, they are not distinct interactions).\n",
        "                interactions.add(min(prot1, prot2) + \"-\" + max(prot1, prot2))\n",
        "\n",
        "# compute a time (in seconds) called `elapsed` as `timeit.default_timer()` minus `start_time`\n",
        "# print `elapsed`\n",
        "elapsed = timeit.default_timer() - start_time"
      ],
      "execution_count": null,
      "outputs": [
        {
          "output_type": "stream",
          "name": "stdout",
          "text": [
            "A1BG\tcontrols-expression-of\tA2M\n",
            "A1BG\tinteracts-with\tABCC6\n",
            "A1BG\tinteracts-with\tACE2\n",
            "A1BG\tinteracts-with\tADAM10\n",
            "A1BG\tinteracts-with\tADAM17\n",
            "A1BG\tinteracts-with\tADAM9\n"
          ]
        }
      ]
    },
    {
      "cell_type": "markdown",
      "metadata": {
        "id": "5kwO3zgzF9KB"
      },
      "source": [
        "How long did your program take to run?\n"
      ]
    },
    {
      "cell_type": "code",
      "metadata": {
        "id": "f4f2a5inF7Iy",
        "colab": {
          "base_uri": "https://localhost:8080/"
        },
        "outputId": "82c73c4c-24de-44eb-ba2c-8b104124834f"
      },
      "source": [
        "# use string formatting `{elapsed:0.2f}` to print only two digits after the decimal point\n",
        "print(f\"{elapsed:0.2f} sec\")"
      ],
      "execution_count": null,
      "outputs": [
        {
          "output_type": "stream",
          "name": "stdout",
          "text": [
            "12.67 sec\n"
          ]
        }
      ]
    },
    {
      "cell_type": "markdown",
      "metadata": {
        "id": "pTTgSNBRGBn6"
      },
      "source": [
        "How many protein-protein interactions are there in the data file?"
      ]
    },
    {
      "cell_type": "code",
      "metadata": {
        "id": "ohXQNYd4GDZX",
        "colab": {
          "base_uri": "https://localhost:8080/"
        },
        "outputId": "967a8b78-3b68-4f1d-ee03-b08ac6bf25fc"
      },
      "source": [
        "# print the value of variable `intctr`\n",
        "print(intctr)"
      ],
      "execution_count": null,
      "outputs": [
        {
          "output_type": "stream",
          "name": "stdout",
          "text": [
            "508480\n"
          ]
        }
      ]
    },
    {
      "cell_type": "markdown",
      "metadata": {
        "id": "CSXUbnLBGNck"
      },
      "source": [
        "How many unique protein names are there in the data file?"
      ]
    },
    {
      "cell_type": "code",
      "metadata": {
        "id": "gfQH1nIpGIzT",
        "colab": {
          "base_uri": "https://localhost:8080/"
        },
        "outputId": "49747b4f-d5b7-437d-8626-fe88ff3c5bfa"
      },
      "source": [
        "# use the `len` function\n",
        "print(len(proteins))"
      ],
      "execution_count": null,
      "outputs": [
        {
          "output_type": "stream",
          "name": "stdout",
          "text": [
            "17531\n"
          ]
        }
      ]
    },
    {
      "cell_type": "markdown",
      "metadata": {
        "id": "9daTs9khGQAP"
      },
      "source": [
        "How many unique pairs of proteins (regarless of interaction type name) are there that interact?"
      ]
    },
    {
      "cell_type": "code",
      "metadata": {
        "id": "1eP7j9IQGPLb",
        "colab": {
          "base_uri": "https://localhost:8080/"
        },
        "outputId": "1b45762a-27e6-43d0-f406-30e3865c6dfe"
      },
      "source": [
        "# use the `len` function\n",
        "print(len(interactions))"
      ],
      "execution_count": null,
      "outputs": [
        {
          "output_type": "stream",
          "name": "stdout",
          "text": [
            "475553\n"
          ]
        }
      ]
    },
    {
      "cell_type": "markdown",
      "metadata": {
        "id": "hJ0mFUmsGZF4"
      },
      "source": [
        "How many interactions are there of each type, in Pathway Commons 2?"
      ]
    },
    {
      "cell_type": "code",
      "metadata": {
        "id": "lb2rTuzKGbog",
        "colab": {
          "base_uri": "https://localhost:8080/"
        },
        "outputId": "fca10cce-4b75-4840-8313-5292289d9ccf"
      },
      "source": [
        "# - define an object `count_items` of class `dict_items` by passing the Counter object to the constructor of a `dict` object and then calling `items()`\n",
        "# - call `sorted` with the first argument being `dict_items` and then named argument `key` having value `operator.itemgetter(1)`,\n",
        "#   and then named argument `reverse` having value `True`\n",
        "count_items = dict(int_name_counter).items()\n",
        "sorted(count_items, key=operator.itemgetter(1), reverse=True)\n"
      ],
      "execution_count": null,
      "outputs": [
        {
          "output_type": "execute_result",
          "data": {
            "text/plain": [
              "[('chemical-affects', 492765),\n",
              " ('interacts-with', 325616),\n",
              " ('in-complex-with', 182864),\n",
              " ('controls-state-change-of', 182450),\n",
              " ('catalysis-precedes', 149013),\n",
              " ('controls-expression-of', 123232),\n",
              " ('consumption-controlled-by', 22830),\n",
              " ('controls-production-of', 21494),\n",
              " ('controls-phosphorylation-of', 17029),\n",
              " ('used-to-produce', 14486),\n",
              " ('controls-transport-of', 7574),\n",
              " ('reacts-with', 3927),\n",
              " ('controls-transport-of-chemical', 3322)]"
            ]
          },
          "metadata": {},
          "execution_count": 53
        }
      ]
    },
    {
      "cell_type": "markdown",
      "metadata": {
        "id": "xLOd68cEIbHt"
      },
      "source": [
        "## Let's do it again, using Pandas"
      ]
    },
    {
      "cell_type": "markdown",
      "metadata": {
        "id": "EszsMAlYIgtJ"
      },
      "source": [
        "read from the uncompressed data stream, and parse it into a data frame `df`, using `pandas.read_csv`"
      ]
    },
    {
      "cell_type": "code",
      "metadata": {
        "id": "V3M-QHbEIcm_"
      },
      "source": [
        "# use the `urllib.request.urlopen` and `gzip.GzipFile` method as before, but this time use `pandas.read_csv`\n",
        "import pandas as pd\n",
        "with urllib.request.urlopen(compressed_datafile_url) as zfd:\n",
        "    with gzip.GzipFile(fileobj=zfd, mode=\"r\") as fd:\n",
        "        df = pd.read_csv(fd, sep=\"\\t\", names=[\"species1\", \"interaction_type\", \"species2\"])"
      ],
      "execution_count": null,
      "outputs": []
    },
    {
      "cell_type": "markdown",
      "metadata": {
        "id": "xxLp4mVVInDX"
      },
      "source": [
        "Use the `pandas.DataFrame.head` method on `df`, to print out the first six lines"
      ]
    },
    {
      "cell_type": "code",
      "metadata": {
        "id": "bqFr0QDyIkfu",
        "colab": {
          "base_uri": "https://localhost:8080/",
          "height": 238
        },
        "outputId": "90f5accb-3896-419d-ef50-fef975339d3f"
      },
      "source": [
        "df.head(n=6)"
      ],
      "execution_count": null,
      "outputs": [
        {
          "output_type": "execute_result",
          "data": {
            "text/plain": [
              "  species1        interaction_type species2\n",
              "0     A1BG  controls-expression-of      A2M\n",
              "1     A1BG          interacts-with    ABCC6\n",
              "2     A1BG          interacts-with     ACE2\n",
              "3     A1BG          interacts-with   ADAM10\n",
              "4     A1BG          interacts-with   ADAM17\n",
              "5     A1BG          interacts-with    ADAM9"
            ],
            "text/html": [
              "\n",
              "  <div id=\"df-3a3580ca-e905-4ee8-8959-6cfac9db13c3\" class=\"colab-df-container\">\n",
              "    <div>\n",
              "<style scoped>\n",
              "    .dataframe tbody tr th:only-of-type {\n",
              "        vertical-align: middle;\n",
              "    }\n",
              "\n",
              "    .dataframe tbody tr th {\n",
              "        vertical-align: top;\n",
              "    }\n",
              "\n",
              "    .dataframe thead th {\n",
              "        text-align: right;\n",
              "    }\n",
              "</style>\n",
              "<table border=\"1\" class=\"dataframe\">\n",
              "  <thead>\n",
              "    <tr style=\"text-align: right;\">\n",
              "      <th></th>\n",
              "      <th>species1</th>\n",
              "      <th>interaction_type</th>\n",
              "      <th>species2</th>\n",
              "    </tr>\n",
              "  </thead>\n",
              "  <tbody>\n",
              "    <tr>\n",
              "      <th>0</th>\n",
              "      <td>A1BG</td>\n",
              "      <td>controls-expression-of</td>\n",
              "      <td>A2M</td>\n",
              "    </tr>\n",
              "    <tr>\n",
              "      <th>1</th>\n",
              "      <td>A1BG</td>\n",
              "      <td>interacts-with</td>\n",
              "      <td>ABCC6</td>\n",
              "    </tr>\n",
              "    <tr>\n",
              "      <th>2</th>\n",
              "      <td>A1BG</td>\n",
              "      <td>interacts-with</td>\n",
              "      <td>ACE2</td>\n",
              "    </tr>\n",
              "    <tr>\n",
              "      <th>3</th>\n",
              "      <td>A1BG</td>\n",
              "      <td>interacts-with</td>\n",
              "      <td>ADAM10</td>\n",
              "    </tr>\n",
              "    <tr>\n",
              "      <th>4</th>\n",
              "      <td>A1BG</td>\n",
              "      <td>interacts-with</td>\n",
              "      <td>ADAM17</td>\n",
              "    </tr>\n",
              "    <tr>\n",
              "      <th>5</th>\n",
              "      <td>A1BG</td>\n",
              "      <td>interacts-with</td>\n",
              "      <td>ADAM9</td>\n",
              "    </tr>\n",
              "  </tbody>\n",
              "</table>\n",
              "</div>\n",
              "    <div class=\"colab-df-buttons\">\n",
              "\n",
              "  <div class=\"colab-df-container\">\n",
              "    <button class=\"colab-df-convert\" onclick=\"convertToInteractive('df-3a3580ca-e905-4ee8-8959-6cfac9db13c3')\"\n",
              "            title=\"Convert this dataframe to an interactive table.\"\n",
              "            style=\"display:none;\">\n",
              "\n",
              "  <svg xmlns=\"http://www.w3.org/2000/svg\" height=\"24px\" viewBox=\"0 -960 960 960\">\n",
              "    <path d=\"M120-120v-720h720v720H120Zm60-500h600v-160H180v160Zm220 220h160v-160H400v160Zm0 220h160v-160H400v160ZM180-400h160v-160H180v160Zm440 0h160v-160H620v160ZM180-180h160v-160H180v160Zm440 0h160v-160H620v160Z\"/>\n",
              "  </svg>\n",
              "    </button>\n",
              "\n",
              "  <style>\n",
              "    .colab-df-container {\n",
              "      display:flex;\n",
              "      gap: 12px;\n",
              "    }\n",
              "\n",
              "    .colab-df-convert {\n",
              "      background-color: #E8F0FE;\n",
              "      border: none;\n",
              "      border-radius: 50%;\n",
              "      cursor: pointer;\n",
              "      display: none;\n",
              "      fill: #1967D2;\n",
              "      height: 32px;\n",
              "      padding: 0 0 0 0;\n",
              "      width: 32px;\n",
              "    }\n",
              "\n",
              "    .colab-df-convert:hover {\n",
              "      background-color: #E2EBFA;\n",
              "      box-shadow: 0px 1px 2px rgba(60, 64, 67, 0.3), 0px 1px 3px 1px rgba(60, 64, 67, 0.15);\n",
              "      fill: #174EA6;\n",
              "    }\n",
              "\n",
              "    .colab-df-buttons div {\n",
              "      margin-bottom: 4px;\n",
              "    }\n",
              "\n",
              "    [theme=dark] .colab-df-convert {\n",
              "      background-color: #3B4455;\n",
              "      fill: #D2E3FC;\n",
              "    }\n",
              "\n",
              "    [theme=dark] .colab-df-convert:hover {\n",
              "      background-color: #434B5C;\n",
              "      box-shadow: 0px 1px 3px 1px rgba(0, 0, 0, 0.15);\n",
              "      filter: drop-shadow(0px 1px 2px rgba(0, 0, 0, 0.3));\n",
              "      fill: #FFFFFF;\n",
              "    }\n",
              "  </style>\n",
              "\n",
              "    <script>\n",
              "      const buttonEl =\n",
              "        document.querySelector('#df-3a3580ca-e905-4ee8-8959-6cfac9db13c3 button.colab-df-convert');\n",
              "      buttonEl.style.display =\n",
              "        google.colab.kernel.accessAllowed ? 'block' : 'none';\n",
              "\n",
              "      async function convertToInteractive(key) {\n",
              "        const element = document.querySelector('#df-3a3580ca-e905-4ee8-8959-6cfac9db13c3');\n",
              "        const dataTable =\n",
              "          await google.colab.kernel.invokeFunction('convertToInteractive',\n",
              "                                                    [key], {});\n",
              "        if (!dataTable) return;\n",
              "\n",
              "        const docLinkHtml = 'Like what you see? Visit the ' +\n",
              "          '<a target=\"_blank\" href=https://colab.research.google.com/notebooks/data_table.ipynb>data table notebook</a>'\n",
              "          + ' to learn more about interactive tables.';\n",
              "        element.innerHTML = '';\n",
              "        dataTable['output_type'] = 'display_data';\n",
              "        await google.colab.output.renderOutput(dataTable, element);\n",
              "        const docLink = document.createElement('div');\n",
              "        docLink.innerHTML = docLinkHtml;\n",
              "        element.appendChild(docLink);\n",
              "      }\n",
              "    </script>\n",
              "  </div>\n",
              "\n",
              "\n",
              "<div id=\"df-26864cb9-9c30-497f-baa7-4967d8b1bcf6\">\n",
              "  <button class=\"colab-df-quickchart\" onclick=\"quickchart('df-26864cb9-9c30-497f-baa7-4967d8b1bcf6')\"\n",
              "            title=\"Suggest charts\"\n",
              "            style=\"display:none;\">\n",
              "\n",
              "<svg xmlns=\"http://www.w3.org/2000/svg\" height=\"24px\"viewBox=\"0 0 24 24\"\n",
              "     width=\"24px\">\n",
              "    <g>\n",
              "        <path d=\"M19 3H5c-1.1 0-2 .9-2 2v14c0 1.1.9 2 2 2h14c1.1 0 2-.9 2-2V5c0-1.1-.9-2-2-2zM9 17H7v-7h2v7zm4 0h-2V7h2v10zm4 0h-2v-4h2v4z\"/>\n",
              "    </g>\n",
              "</svg>\n",
              "  </button>\n",
              "\n",
              "<style>\n",
              "  .colab-df-quickchart {\n",
              "      --bg-color: #E8F0FE;\n",
              "      --fill-color: #1967D2;\n",
              "      --hover-bg-color: #E2EBFA;\n",
              "      --hover-fill-color: #174EA6;\n",
              "      --disabled-fill-color: #AAA;\n",
              "      --disabled-bg-color: #DDD;\n",
              "  }\n",
              "\n",
              "  [theme=dark] .colab-df-quickchart {\n",
              "      --bg-color: #3B4455;\n",
              "      --fill-color: #D2E3FC;\n",
              "      --hover-bg-color: #434B5C;\n",
              "      --hover-fill-color: #FFFFFF;\n",
              "      --disabled-bg-color: #3B4455;\n",
              "      --disabled-fill-color: #666;\n",
              "  }\n",
              "\n",
              "  .colab-df-quickchart {\n",
              "    background-color: var(--bg-color);\n",
              "    border: none;\n",
              "    border-radius: 50%;\n",
              "    cursor: pointer;\n",
              "    display: none;\n",
              "    fill: var(--fill-color);\n",
              "    height: 32px;\n",
              "    padding: 0;\n",
              "    width: 32px;\n",
              "  }\n",
              "\n",
              "  .colab-df-quickchart:hover {\n",
              "    background-color: var(--hover-bg-color);\n",
              "    box-shadow: 0 1px 2px rgba(60, 64, 67, 0.3), 0 1px 3px 1px rgba(60, 64, 67, 0.15);\n",
              "    fill: var(--button-hover-fill-color);\n",
              "  }\n",
              "\n",
              "  .colab-df-quickchart-complete:disabled,\n",
              "  .colab-df-quickchart-complete:disabled:hover {\n",
              "    background-color: var(--disabled-bg-color);\n",
              "    fill: var(--disabled-fill-color);\n",
              "    box-shadow: none;\n",
              "  }\n",
              "\n",
              "  .colab-df-spinner {\n",
              "    border: 2px solid var(--fill-color);\n",
              "    border-color: transparent;\n",
              "    border-bottom-color: var(--fill-color);\n",
              "    animation:\n",
              "      spin 1s steps(1) infinite;\n",
              "  }\n",
              "\n",
              "  @keyframes spin {\n",
              "    0% {\n",
              "      border-color: transparent;\n",
              "      border-bottom-color: var(--fill-color);\n",
              "      border-left-color: var(--fill-color);\n",
              "    }\n",
              "    20% {\n",
              "      border-color: transparent;\n",
              "      border-left-color: var(--fill-color);\n",
              "      border-top-color: var(--fill-color);\n",
              "    }\n",
              "    30% {\n",
              "      border-color: transparent;\n",
              "      border-left-color: var(--fill-color);\n",
              "      border-top-color: var(--fill-color);\n",
              "      border-right-color: var(--fill-color);\n",
              "    }\n",
              "    40% {\n",
              "      border-color: transparent;\n",
              "      border-right-color: var(--fill-color);\n",
              "      border-top-color: var(--fill-color);\n",
              "    }\n",
              "    60% {\n",
              "      border-color: transparent;\n",
              "      border-right-color: var(--fill-color);\n",
              "    }\n",
              "    80% {\n",
              "      border-color: transparent;\n",
              "      border-right-color: var(--fill-color);\n",
              "      border-bottom-color: var(--fill-color);\n",
              "    }\n",
              "    90% {\n",
              "      border-color: transparent;\n",
              "      border-bottom-color: var(--fill-color);\n",
              "    }\n",
              "  }\n",
              "</style>\n",
              "\n",
              "  <script>\n",
              "    async function quickchart(key) {\n",
              "      const quickchartButtonEl =\n",
              "        document.querySelector('#' + key + ' button');\n",
              "      quickchartButtonEl.disabled = true;  // To prevent multiple clicks.\n",
              "      quickchartButtonEl.classList.add('colab-df-spinner');\n",
              "      try {\n",
              "        const charts = await google.colab.kernel.invokeFunction(\n",
              "            'suggestCharts', [key], {});\n",
              "      } catch (error) {\n",
              "        console.error('Error during call to suggestCharts:', error);\n",
              "      }\n",
              "      quickchartButtonEl.classList.remove('colab-df-spinner');\n",
              "      quickchartButtonEl.classList.add('colab-df-quickchart-complete');\n",
              "    }\n",
              "    (() => {\n",
              "      let quickchartButtonEl =\n",
              "        document.querySelector('#df-26864cb9-9c30-497f-baa7-4967d8b1bcf6 button');\n",
              "      quickchartButtonEl.style.display =\n",
              "        google.colab.kernel.accessAllowed ? 'block' : 'none';\n",
              "    })();\n",
              "  </script>\n",
              "</div>\n",
              "    </div>\n",
              "  </div>\n"
            ]
          },
          "metadata": {},
          "execution_count": 55
        }
      ]
    },
    {
      "cell_type": "markdown",
      "metadata": {
        "id": "WSMJaBS-Iv1w"
      },
      "source": [
        "Print the unique types of interactions in the data frame, using the `pandas.core.series.Series.unique` method on `df.interaction_type`:"
      ]
    },
    {
      "cell_type": "code",
      "metadata": {
        "id": "SeAijdqIItsB",
        "colab": {
          "base_uri": "https://localhost:8080/"
        },
        "outputId": "513367cf-1be2-4f2b-ecdd-33b3562e9443"
      },
      "source": [
        "print(list(df.interaction_type.unique()))"
      ],
      "execution_count": null,
      "outputs": [
        {
          "output_type": "stream",
          "name": "stdout",
          "text": [
            "['controls-expression-of', 'interacts-with', 'controls-phosphorylation-of', 'controls-state-change-of', 'in-complex-with', 'controls-production-of', 'catalysis-precedes', 'controls-transport-of', 'controls-transport-of-chemical', 'chemical-affects', 'consumption-controlled-by', 'reacts-with', 'used-to-produce']\n"
          ]
        }
      ]
    },
    {
      "cell_type": "markdown",
      "metadata": {
        "id": "JQjfZNKfTni9"
      },
      "source": [
        "Subset the data frame by interaction type (using the `pandas.core.series.Series.isin` method), to include only the protein-protein interactions, then count rows using `sum`"
      ]
    },
    {
      "cell_type": "code",
      "metadata": {
        "id": "_o9ZBnhkIyIH",
        "colab": {
          "base_uri": "https://localhost:8080/"
        },
        "outputId": "057f1d71-cdf6-47c0-a822-d974e470889a"
      },
      "source": [
        "ppirows = df.interaction_type.isin(interaction_types_ppi)\n",
        "print(sum(ppirows))"
      ],
      "execution_count": null,
      "outputs": [
        {
          "output_type": "stream",
          "name": "stdout",
          "text": [
            "508480\n"
          ]
        }
      ]
    },
    {
      "cell_type": "markdown",
      "metadata": {
        "id": "G8XirbvaT2rW"
      },
      "source": [
        "Make a list of all proteins that occur in a protein-protein interaction, and count the unique protein names by putting them in a `set` and calling `len` on the set"
      ]
    },
    {
      "cell_type": "code",
      "metadata": {
        "id": "llwCXRqGT5pO",
        "colab": {
          "base_uri": "https://localhost:8080/"
        },
        "outputId": "8925a753-c9b5-4676-f349-35689165f25e"
      },
      "source": [
        "print(len(set(df[\"species1\"][ppirows].tolist() + df[\"species2\"][ppirows].tolist())))"
      ],
      "execution_count": null,
      "outputs": [
        {
          "output_type": "stream",
          "name": "stdout",
          "text": [
            "17531\n"
          ]
        }
      ]
    },
    {
      "cell_type": "markdown",
      "metadata": {
        "id": "txrz6a3vUIG8"
      },
      "source": [
        "Count unique protein-protein interaction pairs (specific type of interaction irrelevant), again using `set` and `len`"
      ]
    },
    {
      "cell_type": "code",
      "metadata": {
        "id": "JHW4DEXTT8J6",
        "colab": {
          "base_uri": "https://localhost:8080/"
        },
        "outputId": "c5edda59-48d4-4325-f7e3-d0f26cd1f7b3"
      },
      "source": [
        "print(len(set(df[\"species1\"][ppirows] + \"-\" + df[\"species2\"][ppirows])))\n"
      ],
      "execution_count": null,
      "outputs": [
        {
          "output_type": "stream",
          "name": "stdout",
          "text": [
            "475553\n"
          ]
        }
      ]
    },
    {
      "cell_type": "markdown",
      "metadata": {
        "id": "9jAj0X8aUSOT"
      },
      "source": [
        "Count each type of interaction in the database, by subsetting to the `interaction` column and using `value_counts`"
      ]
    },
    {
      "cell_type": "code",
      "metadata": {
        "id": "3hoL0lzsVO5z",
        "colab": {
          "base_uri": "https://localhost:8080/"
        },
        "outputId": "80d5d6e3-5a53-4ec6-9043-7b772bcc204c"
      },
      "source": [
        "df[\"interaction_type\"].value_counts()"
      ],
      "execution_count": null,
      "outputs": [
        {
          "output_type": "execute_result",
          "data": {
            "text/plain": [
              "chemical-affects                  492765\n",
              "interacts-with                    325616\n",
              "in-complex-with                   182864\n",
              "controls-state-change-of          182450\n",
              "catalysis-precedes                149013\n",
              "controls-expression-of            123232\n",
              "consumption-controlled-by          22830\n",
              "controls-production-of             21494\n",
              "controls-phosphorylation-of        17029\n",
              "used-to-produce                    14486\n",
              "controls-transport-of               7574\n",
              "reacts-with                         3927\n",
              "controls-transport-of-chemical      3322\n",
              "Name: interaction_type, dtype: int64"
            ]
          },
          "metadata": {},
          "execution_count": 60
        }
      ]
    },
    {
      "cell_type": "markdown",
      "metadata": {
        "id": "SqDLdcmrV2do"
      },
      "source": [
        "## Part 2: *Introduction to the igraph package and the Pathway Commons network in SIF format*\n",
        "\n",
        "### Objective: load a network of human molecular interactions and create three igraph `Graph` objects from it (one for protein-protein interactions, one for metabolism interactions, and one for directed protein-protein interactions)\n",
        "\n",
        "We will use the `igraph` package to load molecular interaction data (in edge-list format) into some networks. Documentation about the Python interface to the `igraph` package can be found here: https://igraph.org/python/#docs\n",
        "\n",
        "We will be loading the molecular interaction data from a data file in Simple Interaction File (SIF) format, that has been previously downloaded for you from the Pathway Commons 2.0 website (https://www.pathwaycommons.org/) and can be found on the JupyterHub server in `shared/pathway_commons.sif`. Here is a sneak peek at the file format:\n",
        "```\n",
        "A1BG    controls-expression-of  A2M\n",
        "A1BG    interacts-with  ABCC6\n",
        "A1BG    controls-phosphorylation-of     AKT1\n",
        "A1BG    controls-state-change-of        AKT1\n",
        "A1BG    interacts-with  ANXA7\n",
        "A1BG    interacts-with  CDKN1A\n",
        "A1BG    interacts-with  CRISP3\n",
        "A1BG    interacts-with  GDPD1\n",
        "A1BG    in-complex-with GRB2\n",
        "A1BG    interacts-with  GRB7\n",
        "```\n",
        "As you can see, SIF is a three-column tab-delimited data file format. The first and third columns contain names of molecules (in most cases a protein, but in some cases a metabolite or other chemical). The second column contains an interaction type, of which there are 13 (more about that below)."
      ]
    },
    {
      "cell_type": "markdown",
      "metadata": {
        "id": "GLFzAsu3YUrB"
      },
      "source": [
        "We are also going to have to install the `python-igraph` python package. This package is not available by default in Google Colab's python notebooks, so we will have to install it using `pip` and then import it in the usual way. This package is somewhat peculiar in that the PyPI package name (`python-igraph`) is not the same as the import package name (`igraph`). Before we can install `igraph`, we will need to install the graphics package `cairo` so that `igraph` can plot networks."
      ]
    },
    {
      "cell_type": "markdown",
      "metadata": {
        "id": "4Pb_ZxLqV2d3"
      },
      "source": [
        "OK, now we are going to download the Pathway Commons data in Gzipped SIF format, to a file and then uncompress the file. We will download it from the URL\n",
        "```\n",
        "https://csx46.s3-us-west-2.amazonaws.com/PathwayCommons9.All.hgnc.sif.gz\n",
        "```\n",
        "using the command-line tool `wget` and then we will uncompress it using the command-line tool `gunzip`."
      ]
    },
    {
      "cell_type": "code",
      "metadata": {
        "id": "pwaT6GerWRqF",
        "colab": {
          "base_uri": "https://localhost:8080/"
        },
        "outputId": "d0475f6e-95cb-42cf-8380-6f88cbbbb6c1"
      },
      "source": [
        "!wget https://csx46.s3-us-west-2.amazonaws.com/PathwayCommons9.All.hgnc.sif.gz\n",
        "!gunzip -f PathwayCommons9.All.hgnc.sif.gz\n"
      ],
      "execution_count": null,
      "outputs": [
        {
          "output_type": "stream",
          "name": "stdout",
          "text": [
            "--2024-01-09 04:23:05--  https://csx46.s3-us-west-2.amazonaws.com/PathwayCommons9.All.hgnc.sif.gz\n",
            "Resolving csx46.s3-us-west-2.amazonaws.com (csx46.s3-us-west-2.amazonaws.com)... 52.92.184.90, 52.92.194.250, 3.5.86.187, ...\n",
            "Connecting to csx46.s3-us-west-2.amazonaws.com (csx46.s3-us-west-2.amazonaws.com)|52.92.184.90|:443... connected.\n",
            "HTTP request sent, awaiting response... 200 OK\n",
            "Length: 6072823 (5.8M) [binary/octet-stream]\n",
            "Saving to: ‘PathwayCommons9.All.hgnc.sif.gz’\n",
            "\n",
            "PathwayCommons9.All 100%[===================>]   5.79M  16.5MB/s    in 0.4s    \n",
            "\n",
            "2024-01-09 04:23:06 (16.5 MB/s) - ‘PathwayCommons9.All.hgnc.sif.gz’ saved [6072823/6072823]\n",
            "\n"
          ]
        }
      ]
    },
    {
      "cell_type": "markdown",
      "metadata": {
        "id": "xBokP2dEWGjx"
      },
      "source": [
        "Recall that a SIF file is a tab-separated value file. Load the file `PathwayCommons9.All.hgnc.sif`  into a data frame `df` using `pandas.read_csv`. Don't forget to specify that the separator is the tab `\\t`. Use the `names` argument to name the three columns `species1`, `interaction_type`, and `species2`. Note: for each row, the `interaction_type` column contains one of 11 different interaction types (identified by a string, like `interacts-with` or `controls-production-of`). Specify that no quoting is allowed using `quoting=csv.QUOTE_NONE`. Note: if you are new to `pandas`, you may find it helpful to run `help(pandas.read_csv)`."
      ]
    },
    {
      "cell_type": "code",
      "metadata": {
        "id": "Nnb96G-yV2d5",
        "colab": {
          "base_uri": "https://localhost:8080/"
        },
        "outputId": "e1956554-892f-4d21-f871-5748f46c529b"
      },
      "source": [
        "df = pandas.read_csv(\"PathwayCommons9.All.hgnc.sif\",\n",
        "                     sep=\"\\t\",\n",
        "                     quoting=csv.QUOTE_NONE,\n",
        "                     names=[\"species1\", \"interaction_type\", \"species2\"])\n",
        "df.dtypes"
      ],
      "execution_count": null,
      "outputs": [
        {
          "output_type": "execute_result",
          "data": {
            "text/plain": [
              "species1            object\n",
              "interaction_type    object\n",
              "species2            object\n",
              "dtype: object"
            ]
          },
          "metadata": {},
          "execution_count": 62
        }
      ]
    },
    {
      "cell_type": "markdown",
      "metadata": {
        "id": "K0us2oEaV2eA"
      },
      "source": [
        "Let's take a peek at `df` using the `pandas.core.frame.DataFrame.head` method:"
      ]
    },
    {
      "cell_type": "code",
      "metadata": {
        "id": "xR2fcu3qV2eC",
        "colab": {
          "base_uri": "https://localhost:8080/",
          "height": 206
        },
        "outputId": "77180aa6-9996-498a-9553-adc127e6093a"
      },
      "source": [
        "df.head()"
      ],
      "execution_count": null,
      "outputs": [
        {
          "output_type": "execute_result",
          "data": {
            "text/plain": [
              "  species1        interaction_type species2\n",
              "0     A1BG  controls-expression-of      A2M\n",
              "1     A1BG          interacts-with    ABCC6\n",
              "2     A1BG          interacts-with     ACE2\n",
              "3     A1BG          interacts-with   ADAM10\n",
              "4     A1BG          interacts-with   ADAM17"
            ],
            "text/html": [
              "\n",
              "  <div id=\"df-52573744-5c2c-468b-8122-968deff7d058\" class=\"colab-df-container\">\n",
              "    <div>\n",
              "<style scoped>\n",
              "    .dataframe tbody tr th:only-of-type {\n",
              "        vertical-align: middle;\n",
              "    }\n",
              "\n",
              "    .dataframe tbody tr th {\n",
              "        vertical-align: top;\n",
              "    }\n",
              "\n",
              "    .dataframe thead th {\n",
              "        text-align: right;\n",
              "    }\n",
              "</style>\n",
              "<table border=\"1\" class=\"dataframe\">\n",
              "  <thead>\n",
              "    <tr style=\"text-align: right;\">\n",
              "      <th></th>\n",
              "      <th>species1</th>\n",
              "      <th>interaction_type</th>\n",
              "      <th>species2</th>\n",
              "    </tr>\n",
              "  </thead>\n",
              "  <tbody>\n",
              "    <tr>\n",
              "      <th>0</th>\n",
              "      <td>A1BG</td>\n",
              "      <td>controls-expression-of</td>\n",
              "      <td>A2M</td>\n",
              "    </tr>\n",
              "    <tr>\n",
              "      <th>1</th>\n",
              "      <td>A1BG</td>\n",
              "      <td>interacts-with</td>\n",
              "      <td>ABCC6</td>\n",
              "    </tr>\n",
              "    <tr>\n",
              "      <th>2</th>\n",
              "      <td>A1BG</td>\n",
              "      <td>interacts-with</td>\n",
              "      <td>ACE2</td>\n",
              "    </tr>\n",
              "    <tr>\n",
              "      <th>3</th>\n",
              "      <td>A1BG</td>\n",
              "      <td>interacts-with</td>\n",
              "      <td>ADAM10</td>\n",
              "    </tr>\n",
              "    <tr>\n",
              "      <th>4</th>\n",
              "      <td>A1BG</td>\n",
              "      <td>interacts-with</td>\n",
              "      <td>ADAM17</td>\n",
              "    </tr>\n",
              "  </tbody>\n",
              "</table>\n",
              "</div>\n",
              "    <div class=\"colab-df-buttons\">\n",
              "\n",
              "  <div class=\"colab-df-container\">\n",
              "    <button class=\"colab-df-convert\" onclick=\"convertToInteractive('df-52573744-5c2c-468b-8122-968deff7d058')\"\n",
              "            title=\"Convert this dataframe to an interactive table.\"\n",
              "            style=\"display:none;\">\n",
              "\n",
              "  <svg xmlns=\"http://www.w3.org/2000/svg\" height=\"24px\" viewBox=\"0 -960 960 960\">\n",
              "    <path d=\"M120-120v-720h720v720H120Zm60-500h600v-160H180v160Zm220 220h160v-160H400v160Zm0 220h160v-160H400v160ZM180-400h160v-160H180v160Zm440 0h160v-160H620v160ZM180-180h160v-160H180v160Zm440 0h160v-160H620v160Z\"/>\n",
              "  </svg>\n",
              "    </button>\n",
              "\n",
              "  <style>\n",
              "    .colab-df-container {\n",
              "      display:flex;\n",
              "      gap: 12px;\n",
              "    }\n",
              "\n",
              "    .colab-df-convert {\n",
              "      background-color: #E8F0FE;\n",
              "      border: none;\n",
              "      border-radius: 50%;\n",
              "      cursor: pointer;\n",
              "      display: none;\n",
              "      fill: #1967D2;\n",
              "      height: 32px;\n",
              "      padding: 0 0 0 0;\n",
              "      width: 32px;\n",
              "    }\n",
              "\n",
              "    .colab-df-convert:hover {\n",
              "      background-color: #E2EBFA;\n",
              "      box-shadow: 0px 1px 2px rgba(60, 64, 67, 0.3), 0px 1px 3px 1px rgba(60, 64, 67, 0.15);\n",
              "      fill: #174EA6;\n",
              "    }\n",
              "\n",
              "    .colab-df-buttons div {\n",
              "      margin-bottom: 4px;\n",
              "    }\n",
              "\n",
              "    [theme=dark] .colab-df-convert {\n",
              "      background-color: #3B4455;\n",
              "      fill: #D2E3FC;\n",
              "    }\n",
              "\n",
              "    [theme=dark] .colab-df-convert:hover {\n",
              "      background-color: #434B5C;\n",
              "      box-shadow: 0px 1px 3px 1px rgba(0, 0, 0, 0.15);\n",
              "      filter: drop-shadow(0px 1px 2px rgba(0, 0, 0, 0.3));\n",
              "      fill: #FFFFFF;\n",
              "    }\n",
              "  </style>\n",
              "\n",
              "    <script>\n",
              "      const buttonEl =\n",
              "        document.querySelector('#df-52573744-5c2c-468b-8122-968deff7d058 button.colab-df-convert');\n",
              "      buttonEl.style.display =\n",
              "        google.colab.kernel.accessAllowed ? 'block' : 'none';\n",
              "\n",
              "      async function convertToInteractive(key) {\n",
              "        const element = document.querySelector('#df-52573744-5c2c-468b-8122-968deff7d058');\n",
              "        const dataTable =\n",
              "          await google.colab.kernel.invokeFunction('convertToInteractive',\n",
              "                                                    [key], {});\n",
              "        if (!dataTable) return;\n",
              "\n",
              "        const docLinkHtml = 'Like what you see? Visit the ' +\n",
              "          '<a target=\"_blank\" href=https://colab.research.google.com/notebooks/data_table.ipynb>data table notebook</a>'\n",
              "          + ' to learn more about interactive tables.';\n",
              "        element.innerHTML = '';\n",
              "        dataTable['output_type'] = 'display_data';\n",
              "        await google.colab.output.renderOutput(dataTable, element);\n",
              "        const docLink = document.createElement('div');\n",
              "        docLink.innerHTML = docLinkHtml;\n",
              "        element.appendChild(docLink);\n",
              "      }\n",
              "    </script>\n",
              "  </div>\n",
              "\n",
              "\n",
              "<div id=\"df-d9c78621-65ea-41ce-b144-29008df33398\">\n",
              "  <button class=\"colab-df-quickchart\" onclick=\"quickchart('df-d9c78621-65ea-41ce-b144-29008df33398')\"\n",
              "            title=\"Suggest charts\"\n",
              "            style=\"display:none;\">\n",
              "\n",
              "<svg xmlns=\"http://www.w3.org/2000/svg\" height=\"24px\"viewBox=\"0 0 24 24\"\n",
              "     width=\"24px\">\n",
              "    <g>\n",
              "        <path d=\"M19 3H5c-1.1 0-2 .9-2 2v14c0 1.1.9 2 2 2h14c1.1 0 2-.9 2-2V5c0-1.1-.9-2-2-2zM9 17H7v-7h2v7zm4 0h-2V7h2v10zm4 0h-2v-4h2v4z\"/>\n",
              "    </g>\n",
              "</svg>\n",
              "  </button>\n",
              "\n",
              "<style>\n",
              "  .colab-df-quickchart {\n",
              "      --bg-color: #E8F0FE;\n",
              "      --fill-color: #1967D2;\n",
              "      --hover-bg-color: #E2EBFA;\n",
              "      --hover-fill-color: #174EA6;\n",
              "      --disabled-fill-color: #AAA;\n",
              "      --disabled-bg-color: #DDD;\n",
              "  }\n",
              "\n",
              "  [theme=dark] .colab-df-quickchart {\n",
              "      --bg-color: #3B4455;\n",
              "      --fill-color: #D2E3FC;\n",
              "      --hover-bg-color: #434B5C;\n",
              "      --hover-fill-color: #FFFFFF;\n",
              "      --disabled-bg-color: #3B4455;\n",
              "      --disabled-fill-color: #666;\n",
              "  }\n",
              "\n",
              "  .colab-df-quickchart {\n",
              "    background-color: var(--bg-color);\n",
              "    border: none;\n",
              "    border-radius: 50%;\n",
              "    cursor: pointer;\n",
              "    display: none;\n",
              "    fill: var(--fill-color);\n",
              "    height: 32px;\n",
              "    padding: 0;\n",
              "    width: 32px;\n",
              "  }\n",
              "\n",
              "  .colab-df-quickchart:hover {\n",
              "    background-color: var(--hover-bg-color);\n",
              "    box-shadow: 0 1px 2px rgba(60, 64, 67, 0.3), 0 1px 3px 1px rgba(60, 64, 67, 0.15);\n",
              "    fill: var(--button-hover-fill-color);\n",
              "  }\n",
              "\n",
              "  .colab-df-quickchart-complete:disabled,\n",
              "  .colab-df-quickchart-complete:disabled:hover {\n",
              "    background-color: var(--disabled-bg-color);\n",
              "    fill: var(--disabled-fill-color);\n",
              "    box-shadow: none;\n",
              "  }\n",
              "\n",
              "  .colab-df-spinner {\n",
              "    border: 2px solid var(--fill-color);\n",
              "    border-color: transparent;\n",
              "    border-bottom-color: var(--fill-color);\n",
              "    animation:\n",
              "      spin 1s steps(1) infinite;\n",
              "  }\n",
              "\n",
              "  @keyframes spin {\n",
              "    0% {\n",
              "      border-color: transparent;\n",
              "      border-bottom-color: var(--fill-color);\n",
              "      border-left-color: var(--fill-color);\n",
              "    }\n",
              "    20% {\n",
              "      border-color: transparent;\n",
              "      border-left-color: var(--fill-color);\n",
              "      border-top-color: var(--fill-color);\n",
              "    }\n",
              "    30% {\n",
              "      border-color: transparent;\n",
              "      border-left-color: var(--fill-color);\n",
              "      border-top-color: var(--fill-color);\n",
              "      border-right-color: var(--fill-color);\n",
              "    }\n",
              "    40% {\n",
              "      border-color: transparent;\n",
              "      border-right-color: var(--fill-color);\n",
              "      border-top-color: var(--fill-color);\n",
              "    }\n",
              "    60% {\n",
              "      border-color: transparent;\n",
              "      border-right-color: var(--fill-color);\n",
              "    }\n",
              "    80% {\n",
              "      border-color: transparent;\n",
              "      border-right-color: var(--fill-color);\n",
              "      border-bottom-color: var(--fill-color);\n",
              "    }\n",
              "    90% {\n",
              "      border-color: transparent;\n",
              "      border-bottom-color: var(--fill-color);\n",
              "    }\n",
              "  }\n",
              "</style>\n",
              "\n",
              "  <script>\n",
              "    async function quickchart(key) {\n",
              "      const quickchartButtonEl =\n",
              "        document.querySelector('#' + key + ' button');\n",
              "      quickchartButtonEl.disabled = true;  // To prevent multiple clicks.\n",
              "      quickchartButtonEl.classList.add('colab-df-spinner');\n",
              "      try {\n",
              "        const charts = await google.colab.kernel.invokeFunction(\n",
              "            'suggestCharts', [key], {});\n",
              "      } catch (error) {\n",
              "        console.error('Error during call to suggestCharts:', error);\n",
              "      }\n",
              "      quickchartButtonEl.classList.remove('colab-df-spinner');\n",
              "      quickchartButtonEl.classList.add('colab-df-quickchart-complete');\n",
              "    }\n",
              "    (() => {\n",
              "      let quickchartButtonEl =\n",
              "        document.querySelector('#df-d9c78621-65ea-41ce-b144-29008df33398 button');\n",
              "      quickchartButtonEl.style.display =\n",
              "        google.colab.kernel.accessAllowed ? 'block' : 'none';\n",
              "    })();\n",
              "  </script>\n",
              "</div>\n",
              "    </div>\n",
              "  </div>\n"
            ]
          },
          "metadata": {},
          "execution_count": 63
        }
      ]
    },
    {
      "cell_type": "markdown",
      "metadata": {
        "id": "pVR2AbsuV2eI"
      },
      "source": [
        "Next, for each of the three types of networks, define a `set` of the relevant interaction types for the given network. We'll abbreviate the three network types as follows:\n",
        "\n",
        "- protein-protein interaction network: PPI\n",
        "- metabolic network: metab\n",
        "- protein-protein directed interaction network: PPD\n",
        "\n",
        "Let's assume that the 13 different interaction types map to the three different network types as follows:\n",
        "\n",
        "- PPI network contains edges of interaction type `interacts-with`, `in-complex-with`, and `neighbor-of`\n",
        "\n",
        "- metab network contains edges of interaction type `controls-production-of`, `consumption-controlled-by`, and `controls-transport-of-chemical`\n",
        "\n",
        "- PPD network contains edges of interaction type `catalysis-precedes`, `controls-phosphorylation-of`, `controls-state-change-of`, `controls-transport-of`, and `controls-expression-of`\n",
        "\n",
        "(note, there are two interaction types, `reacts-with` and `chemical-affects`, that we will not be working with in this notebook).\n",
        "\n",
        "So, define three `set` objects containing the aforementioned `interaction_type` strings, one for each of the three types of networks:"
      ]
    },
    {
      "cell_type": "code",
      "metadata": {
        "id": "tB9ZsHIlV2eJ"
      },
      "source": [
        "interaction_types_ppi = {\"interacts-with\",\n",
        "                         \"in-complex-with\",\n",
        "                         \"neighbor-of\"}\n",
        "\n",
        "interaction_types_metab = {\"controls-production-of\",\n",
        "                           \"consumption-controlled-by\",\n",
        "                           \"controls-transport-of-chemical\"}\n",
        "\n",
        "interaction_types_ppd = {\"catalysis-precedes\",\n",
        "                         \"controls-phosphorylation-of\",\n",
        "                         \"controls-state-change-of\",\n",
        "                         \"controls-transport-of\",\n",
        "                         \"controls-expression-of\"}"
      ],
      "execution_count": null,
      "outputs": []
    },
    {
      "cell_type": "markdown",
      "metadata": {
        "id": "ylzckw5YV2eP"
      },
      "source": [
        "Now, sub-select rows from `df` for each of the three networks, using the `pandas.core.series.Series.isin` method:"
      ]
    },
    {
      "cell_type": "code",
      "metadata": {
        "scrolled": true,
        "id": "dTy0ZWVoV2eQ"
      },
      "source": [
        "df_ppi = df[df.interaction_type.isin(interaction_types_ppi)]\n",
        "df_metab = df[df.interaction_type.isin(interaction_types_metab)]\n",
        "df_ppd = df[df.interaction_type.isin(interaction_types_ppd)]"
      ],
      "execution_count": null,
      "outputs": []
    },
    {
      "cell_type": "markdown",
      "metadata": {
        "id": "-yBmOm_NV2eX"
      },
      "source": [
        "Now, generate an edge-list representation of each of the three networks, by subsetting to the `species1` and `species2` columns. (Note: this means that the specific interaction type information is being dropped from each of the networks). Then convert to a `numpy.ndarray` by referencing the `.values` member, and then apply the `numpy.ndarray.tolist()` method:"
      ]
    },
    {
      "cell_type": "code",
      "metadata": {
        "id": "iSiW-Z34V2eY"
      },
      "source": [
        "df_ppi_el = df_ppi[[\"species1\", \"species2\"]].values.tolist()\n",
        "df_metab_el = df_metab[[\"species1\", \"species2\"]].values.tolist()\n",
        "df_ppd_el = df_ppd[[\"species1\", \"species2\"]].values.tolist()"
      ],
      "execution_count": null,
      "outputs": []
    },
    {
      "cell_type": "markdown",
      "metadata": {
        "id": "z3iCN1tIV2ec"
      },
      "source": [
        "Take a peek at the edge-list representation for the PPI graph, using list indexing to see the first six entries:"
      ]
    },
    {
      "cell_type": "code",
      "metadata": {
        "id": "iqlHTR0xV2ed",
        "colab": {
          "base_uri": "https://localhost:8080/"
        },
        "outputId": "ed52e5ed-eca4-4ee4-ccb6-6924fdcd0025"
      },
      "source": [
        "df_ppi_el[0:6]"
      ],
      "execution_count": null,
      "outputs": [
        {
          "output_type": "execute_result",
          "data": {
            "text/plain": [
              "[['A1BG', 'ABCC6'],\n",
              " ['A1BG', 'ACE2'],\n",
              " ['A1BG', 'ADAM10'],\n",
              " ['A1BG', 'ADAM17'],\n",
              " ['A1BG', 'ADAM9'],\n",
              " ['A1BG', 'AGO1']]"
            ]
          },
          "metadata": {},
          "execution_count": 67
        }
      ]
    },
    {
      "cell_type": "markdown",
      "metadata": {
        "id": "OjELMnFXV2eh"
      },
      "source": [
        "Yup, that's an edge-list."
      ]
    },
    {
      "cell_type": "markdown",
      "metadata": {
        "id": "v4645PRXV2en"
      },
      "source": [
        "Let's make an `igraph.Graph` Graph object for the PPI network, by passing the edge-list `df_ppi_el` to the `Graph.TupleList()` constructor"
      ]
    },
    {
      "cell_type": "code",
      "metadata": {
        "id": "RaleDn7wV2eo"
      },
      "source": [
        "graph_ppi = igraph.Graph.TupleList(df_ppi_el)"
      ],
      "execution_count": null,
      "outputs": []
    },
    {
      "cell_type": "markdown",
      "metadata": {
        "id": "53ogMyMOV2et"
      },
      "source": [
        "Let's view a summary of the graph, by passing the graph object to the `igraph.summary` function. You may want to consult the relevant section of the igraph documentation in order to interpret the output of running `summary`:\n",
        "https://igraph.org/r/doc/print.igraph.html"
      ]
    },
    {
      "cell_type": "code",
      "metadata": {
        "id": "N80MinUGV2et",
        "colab": {
          "base_uri": "https://localhost:8080/"
        },
        "outputId": "1a37f39b-5e25-44d6-b625-c44851d731fb"
      },
      "source": [
        "igraph.summary(graph_ppi)"
      ],
      "execution_count": null,
      "outputs": [
        {
          "output_type": "stream",
          "name": "stdout",
          "text": [
            "IGRAPH UN-- 17531 508480 -- \n",
            "+ attr: name (v)\n"
          ]
        }
      ]
    },
    {
      "cell_type": "markdown",
      "metadata": {
        "id": "fkjpnmP-V2ex"
      },
      "source": [
        "How many vertices does the PPI network have?  How many edges? Is it directed or undirected?"
      ]
    },
    {
      "cell_type": "markdown",
      "metadata": {
        "id": "p49cwJX8V2ez"
      },
      "source": [
        "Now do the same for the metabolic network, but specifying `directed=True`."
      ]
    },
    {
      "cell_type": "code",
      "metadata": {
        "id": "6WX3JbtwV2e0",
        "colab": {
          "base_uri": "https://localhost:8080/"
        },
        "outputId": "326299fe-07d9-43e8-f8b4-428f3602f037"
      },
      "source": [
        "graph_metab = igraph.Graph.TupleList(df_metab_el, directed=True)\n",
        "igraph.summary(graph_metab)"
      ],
      "execution_count": null,
      "outputs": [
        {
          "output_type": "stream",
          "name": "stdout",
          "text": [
            "IGRAPH DN-- 9795 47646 -- \n",
            "+ attr: name (v)\n"
          ]
        }
      ]
    },
    {
      "cell_type": "markdown",
      "metadata": {
        "id": "A9iCECFWV2e4"
      },
      "source": [
        "Do you see where the `summary` information denotes that it is a directed graph? How many edges are in the metabolic network?"
      ]
    },
    {
      "cell_type": "markdown",
      "metadata": {
        "id": "uB2g77M4V2e5"
      },
      "source": [
        "Now, do the same for the directed protein-protein interaction network:"
      ]
    },
    {
      "cell_type": "code",
      "metadata": {
        "id": "z7Dd7CxdV2e6",
        "colab": {
          "base_uri": "https://localhost:8080/"
        },
        "outputId": "aee900d6-4abe-4dc8-e85d-164bbc0032fd"
      },
      "source": [
        "graph_ppd = igraph.Graph.TupleList(df_ppd_el, directed=True)\n",
        "igraph.summary(graph_ppd)"
      ],
      "execution_count": null,
      "outputs": [
        {
          "output_type": "stream",
          "name": "stdout",
          "text": [
            "IGRAPH DN-- 18155 479298 -- \n",
            "+ attr: name (v)\n"
          ]
        }
      ]
    },
    {
      "cell_type": "markdown",
      "metadata": {
        "id": "Sble4NKxV2e-"
      },
      "source": [
        "Question: of the three networks that you just created, which has the most edges?"
      ]
    },
    {
      "cell_type": "markdown",
      "metadata": {
        "id": "MMMRP08EV2e_"
      },
      "source": [
        "Now, let's use igraph to draw a small toy network (not the whole PPI!) To get started, we need to create a small graph. Let's make a three-vertex undirected graph from an edge-list. Let's connect all vertices to all other vertices: 1<->2, 2<->3, 3<->1. We'll once again use `igraph.Graph.TupleList` to do this:"
      ]
    },
    {
      "cell_type": "code",
      "metadata": {
        "id": "kBbNAmwHV2fD"
      },
      "source": [
        "testgraph = igraph.Graph.TupleList([[1,2], [2,3], [3,1]])"
      ],
      "execution_count": null,
      "outputs": []
    },
    {
      "cell_type": "markdown",
      "metadata": {
        "id": "bbTwrj7tV2fG"
      },
      "source": [
        "Now, let's use the static method `igraph.drawing.plot` to plot `testgraph` (you'll probably want to specify `bbox=[0,0,100,100]` so the graph isn't huge by default):"
      ]
    },
    {
      "cell_type": "code",
      "metadata": {
        "id": "UhOAUv2TV2fH",
        "colab": {
          "base_uri": "https://localhost:8080/",
          "height": 154
        },
        "outputId": "fae3da7d-2fa7-4c6c-9eb4-e14ce65ef752"
      },
      "source": [
        "igraph.drawing.plot(testgraph, bbox=[0,0,100,100])"
      ],
      "execution_count": null,
      "outputs": [
        {
          "output_type": "execute_result",
          "data": {
            "text/plain": [
              "<igraph.drawing.cairo.plot.CairoPlot at 0x7eace7b29870>"
            ],
            "image/svg+xml": "<?xml version=\"1.0\" encoding=\"UTF-8\"?>\n<svg xmlns=\"http://www.w3.org/2000/svg\" xmlns:xlink=\"http://www.w3.org/1999/xlink\" width=\"100pt\" height=\"100pt\" viewBox=\"0 0 100 100\" version=\"1.1\">\n<g id=\"surface8\">\n<rect x=\"0\" y=\"0\" width=\"100\" height=\"100\" style=\"fill:rgb(100%,100%,100%);fill-opacity:1;stroke:none;\"/>\n<path style=\"fill:none;stroke-width:1;stroke-linecap:butt;stroke-linejoin:miter;stroke:rgb(26.666667%,26.666667%,26.666667%);stroke-opacity:1;stroke-miterlimit:10;\" d=\"M 80 20 L 53.125 80 \"/>\n<path style=\"fill:none;stroke-width:1;stroke-linecap:butt;stroke-linejoin:miter;stroke:rgb(26.666667%,26.666667%,26.666667%);stroke-opacity:1;stroke-miterlimit:10;\" d=\"M 53.125 80 L 20 24.027344 \"/>\n<path style=\"fill:none;stroke-width:1;stroke-linecap:butt;stroke-linejoin:miter;stroke:rgb(26.666667%,26.666667%,26.666667%);stroke-opacity:1;stroke-miterlimit:10;\" d=\"M 80 20 L 20 24.027344 \"/>\n<path style=\"fill-rule:nonzero;fill:rgb(100%,0%,0%);fill-opacity:1;stroke-width:1;stroke-linecap:butt;stroke-linejoin:miter;stroke:rgb(0%,0%,0%);stroke-opacity:1;stroke-miterlimit:10;\" d=\"M 90 20 C 90 25.523438 85.523438 30 80 30 C 74.476562 30 70 25.523438 70 20 C 70 14.476562 74.476562 10 80 10 C 85.523438 10 90 14.476562 90 20 \"/>\n<path style=\"fill-rule:nonzero;fill:rgb(100%,0%,0%);fill-opacity:1;stroke-width:1;stroke-linecap:butt;stroke-linejoin:miter;stroke:rgb(0%,0%,0%);stroke-opacity:1;stroke-miterlimit:10;\" d=\"M 63.125 80 C 63.125 85.523438 58.648438 90 53.125 90 C 47.601562 90 43.125 85.523438 43.125 80 C 43.125 74.476562 47.601562 70 53.125 70 C 58.648438 70 63.125 74.476562 63.125 80 \"/>\n<path style=\"fill-rule:nonzero;fill:rgb(100%,0%,0%);fill-opacity:1;stroke-width:1;stroke-linecap:butt;stroke-linejoin:miter;stroke:rgb(0%,0%,0%);stroke-opacity:1;stroke-miterlimit:10;\" d=\"M 30 24.027344 C 30 29.546875 25.523438 34.027344 20 34.027344 C 14.476562 34.027344 10 29.546875 10 24.027344 C 10 18.503906 14.476562 14.027344 20 14.027344 C 25.523438 14.027344 30 18.503906 30 24.027344 \"/>\n</g>\n</svg>\n"
          },
          "metadata": {
            "image/svg+xml": {
              "isolated": true
            }
          },
          "execution_count": 73
        }
      ]
    },
    {
      "cell_type": "code",
      "source": [
        "!sudo apt-get install texlive-xetex texlive-fonts-recommended texlive-plain-generic"
      ],
      "metadata": {
        "id": "ebumsSdLgvO0"
      },
      "execution_count": null,
      "outputs": []
    },
    {
      "cell_type": "code",
      "source": [
        "!jupyter nbconvert --to html /content/drive/MyDrive/ColabNotebooks/copy_template.ipynb"
      ],
      "metadata": {
        "colab": {
          "base_uri": "https://localhost:8080/"
        },
        "id": "hKxSjYtIkUpn",
        "outputId": "35b6bf2e-7331-4d1e-f66d-5d49f9868486"
      },
      "execution_count": 91,
      "outputs": [
        {
          "output_type": "stream",
          "name": "stdout",
          "text": [
            "[NbConvertApp] Converting notebook /content/drive/MyDrive/ColabNotebooks/copy_template.ipynb to html\n",
            "Traceback (most recent call last):\n",
            "  File \"/usr/local/bin/jupyter-nbconvert\", line 8, in <module>\n",
            "    sys.exit(main())\n",
            "  File \"/usr/local/lib/python3.10/dist-packages/jupyter_core/application.py\", line 283, in launch_instance\n",
            "    super().launch_instance(argv=argv, **kwargs)\n",
            "  File \"/usr/local/lib/python3.10/dist-packages/traitlets/config/application.py\", line 992, in launch_instance\n",
            "    app.start()\n",
            "  File \"/usr/local/lib/python3.10/dist-packages/nbconvert/nbconvertapp.py\", line 423, in start\n",
            "    self.convert_notebooks()\n",
            "  File \"/usr/local/lib/python3.10/dist-packages/nbconvert/nbconvertapp.py\", line 597, in convert_notebooks\n",
            "    self.convert_single_notebook(notebook_filename)\n",
            "  File \"/usr/local/lib/python3.10/dist-packages/nbconvert/nbconvertapp.py\", line 560, in convert_single_notebook\n",
            "    output, resources = self.export_single_notebook(\n",
            "  File \"/usr/local/lib/python3.10/dist-packages/nbconvert/nbconvertapp.py\", line 488, in export_single_notebook\n",
            "    output, resources = self.exporter.from_filename(\n",
            "  File \"/usr/local/lib/python3.10/dist-packages/nbconvert/exporters/exporter.py\", line 189, in from_filename\n",
            "    return self.from_file(f, resources=resources, **kw)\n",
            "  File \"/usr/local/lib/python3.10/dist-packages/nbconvert/exporters/exporter.py\", line 206, in from_file\n",
            "    return self.from_notebook_node(\n",
            "  File \"/usr/local/lib/python3.10/dist-packages/nbconvert/exporters/html.py\", line 223, in from_notebook_node\n",
            "    return super().from_notebook_node(nb, resources, **kw)\n",
            "  File \"/usr/local/lib/python3.10/dist-packages/nbconvert/exporters/templateexporter.py\", line 413, in from_notebook_node\n",
            "    output = self.template.render(nb=nb_copy, resources=resources)\n",
            "  File \"/usr/local/lib/python3.10/dist-packages/jinja2/environment.py\", line 1301, in render\n",
            "    self.environment.handle_exception()\n",
            "  File \"/usr/local/lib/python3.10/dist-packages/jinja2/environment.py\", line 936, in handle_exception\n",
            "    raise rewrite_traceback_stack(source=source)\n",
            "  File \"/usr/local/share/jupyter/nbconvert/templates/lab/index.html.j2\", line 3, in top-level template code\n",
            "    {% from 'jupyter_widgets.html.j2' import jupyter_widgets %}\n",
            "  File \"/usr/local/share/jupyter/nbconvert/templates/lab/base.html.j2\", line 2, in top-level template code\n",
            "    {% from 'celltags.j2' import celltags %}\n",
            "  File \"/usr/local/share/jupyter/nbconvert/templates/base/display_priority.j2\", line 1, in top-level template code\n",
            "    {%- extends 'base/null.j2' -%}\n",
            "  File \"/usr/local/share/jupyter/nbconvert/templates/base/null.j2\", line 26, in top-level template code\n",
            "    {%- block body -%}\n",
            "  File \"/usr/local/share/jupyter/nbconvert/templates/base/null.j2\", line 29, in block 'body'\n",
            "    {%- block body_loop -%}\n",
            "  File \"/usr/local/share/jupyter/nbconvert/templates/base/null.j2\", line 31, in block 'body_loop'\n",
            "    {%- block any_cell scoped -%}\n",
            "  File \"/usr/local/share/jupyter/nbconvert/templates/base/null.j2\", line 34, in block 'any_cell'\n",
            "    {%- block codecell scoped -%}\n",
            "  File \"/usr/local/share/jupyter/nbconvert/templates/lab/base.html.j2\", line 12, in block 'codecell'\n",
            "    {{ super() }}\n",
            "  File \"/usr/local/share/jupyter/nbconvert/templates/base/null.j2\", line 44, in block 'codecell'\n",
            "    {%- block output_group -%}\n",
            "  File \"/usr/local/share/jupyter/nbconvert/templates/lab/base.html.j2\", line 38, in block 'output_group'\n",
            "    {{ super() }}\n",
            "  File \"/usr/local/share/jupyter/nbconvert/templates/base/null.j2\", line 48, in block 'output_group'\n",
            "    {%- block outputs scoped -%}\n",
            "  File \"/usr/local/share/jupyter/nbconvert/templates/lab/base.html.j2\", line 44, in block 'outputs'\n",
            "    {{ super() }}\n",
            "  File \"/usr/local/share/jupyter/nbconvert/templates/base/null.j2\", line 50, in block 'outputs'\n",
            "    {%- block output scoped -%}\n",
            "  File \"/usr/local/share/jupyter/nbconvert/templates/lab/base.html.j2\", line 87, in block 'output'\n",
            "    {{ super() }}\n",
            "  File \"/usr/local/share/jupyter/nbconvert/templates/base/null.j2\", line 52, in block 'output'\n",
            "    {%- block execute_result scoped -%}{%- endblock execute_result -%}\n",
            "  File \"/usr/local/share/jupyter/nbconvert/templates/lab/base.html.j2\", line 125, in block 'execute_result'\n",
            "    {% block data_priority scoped %}\n",
            "  File \"/usr/local/share/jupyter/nbconvert/templates/lab/base.html.j2\", line 126, in block 'data_priority'\n",
            "    {{ super() }}\n",
            "  File \"/usr/local/share/jupyter/nbconvert/templates/base/display_priority.j2\", line 12, in block 'data_priority'\n",
            "    {%- block data_svg -%}\n",
            "  File \"/usr/local/share/jupyter/nbconvert/templates/lab/base.html.j2\", line 162, in block 'data_svg'\n",
            "    {{ output.data['image/svg+xml'] | clean_html }}\n",
            "  File \"src/lxml/html/clean.py\", line 561, in lxml.html.clean.Cleaner.clean_html\n",
            "  File \"/usr/local/lib/python3.10/dist-packages/lxml/html/__init__.py\", line 873, in fromstring\n",
            "    doc = document_fromstring(html, parser=parser, base_url=base_url, **kw)\n",
            "  File \"/usr/local/lib/python3.10/dist-packages/lxml/html/__init__.py\", line 759, in document_fromstring\n",
            "    value = etree.fromstring(html, parser, **kw)\n",
            "  File \"src/lxml/etree.pyx\", line 3264, in lxml.etree.fromstring\n",
            "  File \"src/lxml/parser.pxi\", line 1911, in lxml.etree._parseMemoryDocument\n",
            "ValueError: Unicode strings with encoding declaration are not supported. Please use bytes input or XML fragments without declaration.\n"
          ]
        }
      ]
    }
  ]
}